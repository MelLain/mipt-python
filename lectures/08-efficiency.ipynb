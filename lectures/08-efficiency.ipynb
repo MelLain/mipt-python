{
 "cells": [
  {
   "cell_type": "markdown",
   "metadata": {
    "slideshow": {
     "slide_type": "slide"
    }
   },
   "source": [
    "# `Практикум по программированию на языке Python`\n",
    "<br>\n",
    "\n",
    "## `Занятие 8: Методы повышения эффективности кода`\n",
    "<br><br>\n",
    "\n",
    "### `Мурат Апишев (mel-lain@yandex.ru)`\n",
    "\n",
    "#### `Москва, 2022`"
   ]
  },
  {
   "cell_type": "code",
   "execution_count": 101,
   "metadata": {
    "slideshow": {
     "slide_type": "skip"
    }
   },
   "outputs": [],
   "source": [
    "import warnings\n",
    "warnings.filterwarnings('ignore')"
   ]
  },
  {
   "cell_type": "markdown",
   "metadata": {
    "slideshow": {
     "slide_type": "slide"
    }
   },
   "source": [
    "### `Производительность Python`\n",
    "\n",
    "- Быстродействие кода на Python существенно уступает коду, написанному на компилируемых языках<br><br>\n",
    "- Но Python очень удобен и популярен, поэтому сделано много попыток его ускорения<br><br>\n",
    "- Популярен подход с написанием основного кода на C/C++/CUDA и предоставлением пользователю удобного интерфейса к нему в Python (numpy, pycuda, библиотеки для глубинного обучения)<br><br>\n",
    "- Однако часто хочется получать эффективный код прямо в Python"
   ]
  },
  {
   "cell_type": "markdown",
   "metadata": {
    "slideshow": {
     "slide_type": "slide"
    }
   },
   "source": [
    "### `Возможные методы повышения производительности`\n",
    "\n",
    "- Многопоточность и многопроцессорность\n",
    "- Альтернативные реализации Python: Pypy, Jython, Iron Python\n",
    "- Библиотека Numba\n",
    "- Расширение Cython\n",
    "- Фреймворки Hadoop/Spark"
   ]
  },
  {
   "cell_type": "markdown",
   "metadata": {
    "slideshow": {
     "slide_type": "slide"
    }
   },
   "source": [
    "### `Процесс и поток`\n",
    "\n",
    "- __Процесс__ - это единица приложения, работающая в операционной системе, имеет собственную изолированную память\n",
    "- __Поток__ - вычислительная единица внутри процесса, работает в памяти процесса, имеет собственный код для выполнения<br><br>\n",
    "- В процессе может быть >= 1 потока\n",
    "- Одно ядро процессора в моменте времени может выполнять код одного потока\n",
    "- Если потоков много, а ядро одно, то оно будет переключаться между ними, создавая иллюзию параллельности для пользователя\n",
    "- Если и потоков, и ядер много, то потоки могут действительно выполняться параллельно\n",
    "- Аналогичным образом работает параллелизм между процессами"
   ]
  },
  {
   "cell_type": "markdown",
   "metadata": {
    "slideshow": {
     "slide_type": "slide"
    }
   },
   "source": [
    "### `Создание потока в Python`\n",
    "\n",
    "- Для работы с потоками в Python есть стандартный модуль threading\n",
    "- Основным классом является `Thread` (поток)"
   ]
  },
  {
   "cell_type": "code",
   "execution_count": 1,
   "metadata": {},
   "outputs": [],
   "source": [
    "import threading"
   ]
  },
  {
   "cell_type": "markdown",
   "metadata": {
    "slideshow": {
     "slide_type": "-"
    }
   },
   "source": [
    "Функциональное создание потока:"
   ]
  },
  {
   "cell_type": "code",
   "execution_count": 103,
   "metadata": {},
   "outputs": [
    {
     "name": "stdout",
     "output_type": "stream",
     "text": [
      "1000\n"
     ]
    }
   ],
   "source": [
    "def thread_function(x):\n",
    "    print(x ** 3)\n",
    "\n",
    "thread = threading.Thread(target=thread_function, args=(10, ))\n",
    "thread.start()"
   ]
  },
  {
   "cell_type": "markdown",
   "metadata": {},
   "source": [
    "- Потоку передается функция, которую он должен выполнить, и аргументы\n",
    "- После запуска `start` он будет выполняться до выхода из функции или ошибки\n",
    "- Запустить его второй раз не получится (RuntimeError)"
   ]
  },
  {
   "cell_type": "markdown",
   "metadata": {
    "slideshow": {
     "slide_type": "slide"
    }
   },
   "source": [
    "### `Создание потока в Python`\n",
    "\n",
    "- Поток также можно описать в виде класс-наследника `Thread`\n",
    "- Класс должен определять метод `run`"
   ]
  },
  {
   "cell_type": "code",
   "execution_count": 104,
   "metadata": {},
   "outputs": [
    {
     "name": "stdout",
     "output_type": "stream",
     "text": [
      "1000\n"
     ]
    }
   ],
   "source": [
    "class MyThread(threading.Thread):\n",
    "    def __init__(self, x, power):\n",
    "        threading.Thread.__init__(self)\n",
    "        self.x = x\n",
    "        self.power = power\n",
    "\n",
    "    def thread_function(self):\n",
    "        print(self.x ** self.power)\n",
    "\n",
    "    def run(self):\n",
    "        self.thread_function()\n",
    "\n",
    "print_thread = MyThread(x=10, power=3)\n",
    "print_thread.start()"
   ]
  },
  {
   "cell_type": "markdown",
   "metadata": {
    "slideshow": {
     "slide_type": "slide"
    }
   },
   "source": [
    "### `Потоки-демоны`\n",
    "\n",
    "- Потоки могут выполняться в обычном и фоновом (daemon) режимах\n",
    "- Потоки-демоны используются для выполнения фоновых задач (отправка ping-ов, очистка мусора), они имеют смысл только в процессе существования основного потока\n",
    "- При своем завершении процесс будет дожидаться окончания работы обычных потоков\n",
    "- Потоки-демоны будут автоматически уничтожены при завершении процесса\n",
    "- Такие потоки можно создавать и дальше за ними не следить, обычные же потоки нужно явно завершать<br><br>\n",
    "\n",
    "Создание потока в режиме демона:"
   ]
  },
  {
   "cell_type": "code",
   "execution_count": 105,
   "metadata": {},
   "outputs": [],
   "source": [
    "thread = threading.Thread(target=thread_function, args=(10, ), daemon=True)"
   ]
  },
  {
   "cell_type": "markdown",
   "metadata": {
    "slideshow": {
     "slide_type": "slide"
    }
   },
   "source": [
    "### `Основные методы и атрибуты класса Thread`\n",
    "\n",
    "Методы:\n",
    "\n",
    "- `start` - запуск потока\n",
    "- `run` - выполняет код потока\n",
    "- `join` - блокирует вызывающий поток до завершения потока, у которого вызван `join`\n",
    "- `is_alive` - возвращает флаг незавершенности потока\n",
    "\n",
    "Атрибуты:\n",
    "- `name` - имя потока\n",
    "- `daemon` - флаг потоком фоновый или обычный\n",
    "- `ident` - идентификатор потока, пока не вызван `start` он `None`."
   ]
  },
  {
   "cell_type": "markdown",
   "metadata": {},
   "source": [
    "### `Пример запуска потока`"
   ]
  },
  {
   "cell_type": "code",
   "execution_count": 106,
   "metadata": {},
   "outputs": [
    {
     "name": "stdout",
     "output_type": "stream",
     "text": [
      "wait started\n",
      "Is alive:  True\n",
      "Is daemon:  False\n",
      "Thread name:  Wait Thread\n",
      "Thread identificator:  140035962898176\n",
      "wait finished\n",
      "Is alive:  False\n"
     ]
    }
   ],
   "source": [
    "import time\n",
    "\n",
    "def wait(s):\n",
    "    print('wait started')\n",
    "    time.sleep(s)\n",
    "    print('wait finished')\n",
    "\n",
    "thread = threading.Thread(target=wait, args=(10, ), name='Wait Thread')\n",
    "thread.start()\n",
    "\n",
    "print('Is alive: ', thread.is_alive())\n",
    "print('Is daemon: ', thread.daemon)\n",
    "print('Thread name: ', thread.name)\n",
    "print('Thread identificator: ', thread.ident)\n",
    "thread.join()\n",
    "print('Is alive: ', thread.is_alive())"
   ]
  },
  {
   "cell_type": "markdown",
   "metadata": {
    "slideshow": {
     "slide_type": "slide"
    }
   },
   "source": [
    "### `Доступ к разделяемым ресурсам`\n",
    "\n",
    "- Потоки не имеют своей памяти и все работают с одной памятью родительского процесса\n",
    "- Порядок выполнения потоков недетерминирован, в многопоточной среде несколько потоков могут одновременно получить доступ к одному ресурсу\n",
    "- Без надлежащего контроля это может привести к ошибкам и падению процесса\n",
    "- Потоки нельзя просто так останавливать извне, поэтому ограничения нужно наложить заранее, до запуска<br><br>\n",
    "\n",
    "- Для контроля за доступом к ресурсам есть несколько инструментов:\n",
    "    - Мьютекс (Mutex, Lock)\n",
    "    - Рекурсивный мьютекс (RLock)\n",
    "    - Семафор (Semaphore)\n",
    "    - Событие (Event)\n",
    "    - Условная переменная (Condition variable)\n",
    "    - Барьер (Barrier)"
   ]
  },
  {
   "cell_type": "markdown",
   "metadata": {
    "slideshow": {
     "slide_type": "slide"
    }
   },
   "source": [
    "### `Простая блокировка Lock`\n",
    "\n",
    "- Mutex - это объект, который может в каждый момент времени быть занят не более чем одним потоком\n",
    "- Все потоки проверяют его на занятость и, если он занят, ожидают освобождения"
   ]
  },
  {
   "cell_type": "code",
   "execution_count": 107,
   "metadata": {},
   "outputs": [],
   "source": [
    "mutex = threading.Lock()\n",
    "\n",
    "def thread_safe_function():\n",
    "    mutex.acquire()\n",
    "    # Critical section\n",
    "    mutex.release()"
   ]
  },
  {
   "cell_type": "markdown",
   "metadata": {},
   "source": [
    "Для избежания взаимных блокировок (deadlocks) освобождение mutex нужно делать всегда, в т.ч. при ошибках и исключениях"
   ]
  },
  {
   "cell_type": "markdown",
   "metadata": {
    "slideshow": {
     "slide_type": "slide"
    }
   },
   "source": [
    "### `Пример использования Mutex`\n",
    "\n",
    "Сравним потокобезопасный и непотокобезопасный коды в задаче инкремента разделяемого ресурса ([источник](https://geekbrains.ru/posts/python_multithreading_pt2))"
   ]
  },
  {
   "cell_type": "code",
   "execution_count": 2,
   "metadata": {},
   "outputs": [],
   "source": [
    "protected_resource, unprotected_resource = 0, 0\n",
    "mutex = threading.Lock()\n",
    "NUM = 100000"
   ]
  },
  {
   "cell_type": "code",
   "execution_count": 3,
   "metadata": {},
   "outputs": [],
   "source": [
    "def safe_plus():\n",
    "    global protected_resource\n",
    "    for i in range(NUM):\n",
    "        with mutex:\n",
    "            protected_resource += 1\n",
    "\n",
    "def risky_plus():\n",
    "    global unprotected_resource\n",
    "    for i in range(NUM):\n",
    "        unprotected_resource += 1\n",
    "\n",
    "def safe_minus():\n",
    "    global protected_resource\n",
    "    for i in range(NUM):\n",
    "        with mutex:\n",
    "            protected_resource -= 1\n",
    "\n",
    "def risky_minus():\n",
    "    global unprotected_resource\n",
    "    for i in range(NUM):\n",
    "        unprotected_resource -= 1"
   ]
  },
  {
   "cell_type": "markdown",
   "metadata": {
    "slideshow": {
     "slide_type": "slide"
    }
   },
   "source": [
    "### `Пример использования Mutex`"
   ]
  },
  {
   "cell_type": "code",
   "execution_count": 9,
   "metadata": {},
   "outputs": [
    {
     "name": "stdout",
     "output_type": "stream",
     "text": [
      "Threadsafe result: 0\n",
      "Non-threadsafe result: 189851\n"
     ]
    }
   ],
   "source": [
    "thread1 = threading.Thread(target=safe_plus)\n",
    "thread2 = threading.Thread(target=safe_minus)\n",
    "thread3 = threading.Thread(target=risky_plus)\n",
    "thread4 = threading.Thread(target=risky_minus)\n",
    "\n",
    "thread1.start(), thread2.start(), thread3.start(), thread4.start()\n",
    "thread1.join(), thread2.join(), thread3.join(), thread4.join()\n",
    "\n",
    "print (f'Threadsafe result: {protected_resource}')\n",
    "print (f'Non-threadsafe result: {unprotected_resource}')"
   ]
  },
  {
   "cell_type": "markdown",
   "metadata": {
    "slideshow": {
     "slide_type": "slide"
    }
   },
   "source": [
    "### `Прочие инструменты контроля доступа`\n",
    "\n",
    "- Рекурсивный мьютекс - такой же, как и обычный, но один поток может многократно входить в критическую секцию<br><br>\n",
    "- Семафор - дает доступ к ресурсу заданному числу потоков<br><br>\n",
    "- Событие - блокирует ресурс до выполнения некоторого условия, о котором уведовляет один из потоков<br><br>\n",
    "- Условная переменная - обертка типа Event вокруг других блокировок для блокирования по определенным событиям<br><br>\n",
    "- Барьер - создает точку синхронизации для заданного числа потоков, пока они все не дойдут до него, никто дальше не выполняется"
   ]
  },
  {
   "cell_type": "markdown",
   "metadata": {
    "slideshow": {
     "slide_type": "slide"
    }
   },
   "source": [
    "### `Проблемы с многопоточностью в Python`\n",
    "\n",
    "- Существует несколько реализаций Python, наиболее популярная (стандартная) - CPython\n",
    "- Исторически CPython был реализован с глобальной блокировкой потоков Global Interpreter Lock (GIL)\n",
    "\n",
    "Что такое GIL:\n",
    "- GIL - это блокировка, которая не позволяет в каждый момент времени выполняться не более чем одному потоку\n",
    "- Для этого через равные промежутки времени (100 тиков) интерпретатор усыпляет работающий поток и дает возможность поработать один промежуток какому-то иному потоку\n",
    "- Остановка происходит даже в том случае, если поток всего один\n",
    "\n",
    "Зачем нужен GIL:\n",
    "- Реализация менеджмента памяти и сборки мусора в CPython не является потокобезопасной\n",
    "- Без него C-расширения языка, которые активно используются, не смогут нормально работать\n",
    "- За счет отсутствия необходимости учета разных ссылок на объекты из разных потоков однопоточные приложения выполняются с GIL быстрее\n",
    "\n",
    "Где еще есть GIL:\n",
    "- В Jython и IronPython GIL нет\n",
    "- В PyPy есть\n",
    "- В Cython есть, но может выключаться на секцию кода"
   ]
  },
  {
   "cell_type": "markdown",
   "metadata": {
    "slideshow": {
     "slide_type": "slide"
    }
   },
   "source": [
    "### `К чему приводит наличие GIL`\n",
    "\n",
    "- Многопоточные приложения, ориентированные на использование вычислений на CPU (не I/O операций) не могут работать параллельно<br><br>\n",
    "- Вычисления не только не становятся быстрее, но и сильно замедляются при увеличении числа потоков, поскольку каждое переключение требует большого числа системных вызовов<br><br>\n",
    "- Замедление на многоядерном процессоре будет еще больше, чем на одноядерном, поскольку интерпретатор не синхронизирован с ОС (он хочет разместить все на одном ядре, а ОС пытается разложить потоки на разные ядра)<br><br>\n",
    "- В интерпретаторе нет своего расписания очереди потоков, используется расписание ОС, это приводит к проблемам при обработке сигналов"
   ]
  },
  {
   "cell_type": "markdown",
   "metadata": {
    "slideshow": {
     "slide_type": "slide"
    }
   },
   "source": [
    "### `Реакция на сигналы ОС`\n",
    "\n",
    "- В Python сигналы могут обрабатываться только в главном потоке<br><br>\n",
    "- При этом интерпретатор не может сам потребовать, чтобы на следующем промежутке включился главный поток<br><br>\n",
    "- Он пытается переключать потоки с GIL не раз в 100 тиков, а каждый тик<br><br>\n",
    "- В результате выполнение кода может замедлиться, и до перехода в главный поток Python не реагирует на сигналы<br><br>\n",
    "- Помимо этого, внутри одного тика интерпретатор невозможно прервать<br><br>\n",
    "- Тик длится не фиксированное время, а некоторый набор инструкций (по-умолчанию - 100 байткодов), в которые интерпретатор транслировал исходный код<br><br>"
   ]
  },
  {
   "cell_type": "markdown",
   "metadata": {
    "slideshow": {
     "slide_type": "slide"
    }
   },
   "source": [
    "### `Пример проблем с GIL`\n",
    "\n",
    "Однопоточный код:"
   ]
  },
  {
   "cell_type": "code",
   "execution_count": 3,
   "metadata": {},
   "outputs": [
    {
     "name": "stdout",
     "output_type": "stream",
     "text": [
      "Elapsed time: 2.59\n"
     ]
    }
   ],
   "source": [
    "def func(i):\n",
    "    while i < 5e+7: i += 1\n",
    "\n",
    "ts = time.time()\n",
    "func(0)\n",
    "print(f'Elapsed time: {round(time.time() - ts, 2)}')"
   ]
  },
  {
   "cell_type": "markdown",
   "metadata": {},
   "source": [
    "Многопоточный код:"
   ]
  },
  {
   "cell_type": "code",
   "execution_count": 5,
   "metadata": {},
   "outputs": [
    {
     "name": "stdout",
     "output_type": "stream",
     "text": [
      "Elapsed time: 5.34\n"
     ]
    }
   ],
   "source": [
    "ts = time.time()\n",
    "threads = []\n",
    "for _ in range(2):\n",
    "    thread = threading.Thread(target=func, args=(0, ))\n",
    "    thread.start()\n",
    "    threads.append(thread)\n",
    "\n",
    "for thread in threads:\n",
    "    thread.join()\n",
    "\n",
    "print(f'Elapsed time: {round(time.time() - ts, 2)}')"
   ]
  },
  {
   "cell_type": "markdown",
   "metadata": {
    "slideshow": {
     "slide_type": "slide"
    }
   },
   "source": [
    "### `Когда многопоточный код полезен`\n",
    "\n",
    "- Независимые и не интенсивные I/O-операции с файлами, запросами или БД, логгирование<br><br>\n",
    "    - время ожидание завершения работы системных вызовов, связанных с I/O-операциями относительно велико\n",
    "    - поток, ожидающий этого, не меняет ничего в состоянии интерпретатора до выполнения следующего фрагмента кода\n",
    "    - значит на это время он может освободить GIL и дать другому потоку продолжить выполнение<br><br>\n",
    "\n",
    "- Отрисовка GUI\n",
    "\n",
    "Пример с логгированием:"
   ]
  },
  {
   "cell_type": "code",
   "execution_count": 113,
   "metadata": {},
   "outputs": [
    {
     "name": "stdout",
     "output_type": "stream",
     "text": [
      "I print this while func works\n",
      "I print this while func works\n",
      "I print this while func works\n",
      "Finished\n"
     ]
    }
   ],
   "source": [
    "flag = True\n",
    "def print_message():\n",
    "    while flag:\n",
    "        time.sleep(1)\n",
    "        print('I print this while func works')\n",
    "    \n",
    "log_thread = threading.Thread(target=print_message)\n",
    "log_thread.start()\n",
    "func(-5e+7)\n",
    "print('Finished')\n",
    "flag = False"
   ]
  },
  {
   "cell_type": "markdown",
   "metadata": {
    "slideshow": {
     "slide_type": "slide"
    }
   },
   "source": [
    "### `Будущее GIL`\n",
    "\n",
    "- Проблема с GIL действительно есть, однако её важность для большинства пользователей преувеличена\n",
    "- Попытки избавиться от GIL предпринимались многократно, но часто проваливались из-за требования неухудшения производительности для однопоточных приложений\n",
    "- Но есть и успешные перспективные примеры (https://github.com/colesbury/nogil)\n",
    "- Одна из возможных альтернатив - механизм подинтерпретаторов (subinterpreters, версия Python 3.9+)\n",
    "- Пробуются разные идеи, основанные на изменении методов подсчёта ссылок, аллокации памяти и принципов работы виртуальной машины"
   ]
  },
  {
   "cell_type": "markdown",
   "metadata": {
    "slideshow": {
     "slide_type": "slide"
    }
   },
   "source": [
    "### `Многопроцессорный параллелизм`\n",
    "\n",
    "- Процессы работают в собственных адресных пространствах и имеют каждый свои данные, в т.ч. и GIL в случае Python\n",
    "- Взаимодействие между ними можно организовать также, как и для любых других процессов: через файлы (в т.ч. вирутуальные) или обмен сообщениями (multiprocessing, MPI)<br><br>\n",
    "\n",
    "- У каждого процесса есть `pid`, который можно получить вызовом `os.getpid()`\n",
    "- Воспользуемся для примера модулем multiprocessing, все похоже на потоки:"
   ]
  },
  {
   "cell_type": "code",
   "execution_count": 114,
   "metadata": {},
   "outputs": [
    {
     "name": "stdout",
     "output_type": "stream",
     "text": [
      "func was called by process id 25042 with number 5\n",
      "func was called by process id 25045 with number 10\n",
      "func was called by process id 25048 with number 15\n",
      "func was called by process id 25051 with number 20\n",
      "func was called by process id 25054 with number 25\n"
     ]
    }
   ],
   "source": [
    "import os\n",
    "from multiprocessing import Process\n",
    "\n",
    "def func(number):\n",
    "    result = number ** 2\n",
    "    print(f'func was called by process id {os.getpid()} with number {number}')\n",
    "\n",
    "procs, numbers = [], [5, 10, 15, 20, 25]\n",
    "    \n",
    "for index, number in enumerate(numbers):\n",
    "    proc = Process(target=func, args=(number,))\n",
    "    procs.append(proc)\n",
    "    proc.start()\n",
    "    \n",
    "for proc in procs:\n",
    "    proc.join()"
   ]
  },
  {
   "cell_type": "markdown",
   "metadata": {
    "slideshow": {
     "slide_type": "slide"
    }
   },
   "source": [
    "### `Блокировки для процессов`\n",
    "\n",
    "- `multiprocessing.Lock` реализован как объект семафора в ОС вне памяти процесса, и каждый процесс может получить к нему доступ и изменять его"
   ]
  },
  {
   "cell_type": "code",
   "execution_count": 68,
   "metadata": {},
   "outputs": [
    {
     "name": "stdout",
     "output_type": "stream",
     "text": [
      "0\n",
      "1\n",
      "2\n",
      "3\n",
      "4\n",
      "5\n",
      "6\n",
      "7\n",
      "8\n",
      "9\n"
     ]
    }
   ],
   "source": [
    "from multiprocessing import Process, Lock\n",
    "\n",
    "def func(lock, num):\n",
    "    with lock:\n",
    "        print(num)\n",
    "\n",
    "lock = Lock()\n",
    "for num in range(10):\n",
    "    Process(target=func, args=(lock, num)).start()"
   ]
  },
  {
   "cell_type": "markdown",
   "metadata": {
    "slideshow": {
     "slide_type": "slide"
    }
   },
   "source": [
    "### `Совместный доступ к объектам`\n",
    "\n",
    "- Передавать параметры по ссылке бессмысленно - они копируются и сериализуются для передачи в подпроцесс\n",
    "- Тем не менее, можно пользоваться блоками разделяемой памяти в ОЗУ - `multiprocessing.shared_memory`\n",
    "- Это относительно низкоуровневый подход, на его основе реализованы более удобные `Value` и `Array`:"
   ]
  },
  {
   "cell_type": "code",
   "execution_count": 116,
   "metadata": {},
   "outputs": [
    {
     "name": "stdout",
     "output_type": "stream",
     "text": [
      "10.0\n",
      "[0, -1, -2, -3, -4, -5, -6, -7, -8, -9]\n"
     ]
    }
   ],
   "source": [
    "from multiprocessing import Value, Array\n",
    "\n",
    "def func(number, array):\n",
    "    number.value = 10\n",
    "    for i in range(len(array)):\n",
    "        array[i] = -array[i]\n",
    "\n",
    "number = Value('d', 0.0)\n",
    "array = Array('i', range(10))\n",
    "\n",
    "p = Process(target=func, args=(number, array))\n",
    "p.start()\n",
    "p.join()\n",
    "\n",
    "print(number.value)\n",
    "print(array[:])"
   ]
  },
  {
   "cell_type": "markdown",
   "metadata": {
    "slideshow": {
     "slide_type": "slide"
    }
   },
   "source": [
    "### `Pypy Python`\n",
    "\n",
    "- Реализация интерпретатора Python, написанная на фреймворке RPython (синтаксис аналогичен Python)<br><br>\n",
    "- Использует just-in-time (JIT) компиляцию:\n",
    "    - при запуске код анализируется, наиболее часто используемые фрагменты (как циклы) переводятся в машинный код\n",
    "    - в таком виде они оптимизируются\n",
    "    - при выполнении исходные фрагменты заменяются на оптимизированные<br><br>\n",
    "- В ряде случаев JIT позволяет в разы ускорить выполнение кода на Python, как правило, код должен выполняться длительное время<br><br>\n",
    "- Цена использования JIT - более высокое потребление памяти в сложных и долго работающих процессах<br><br>\n",
    "- PyPy поддерживает все конструкции соответствующей версии языка Python, но работает только с частью библиотек и C-расширений<br><br>\n",
    "- JIT - не компиляция, т.е. получить на выходе исполняемый бинарный файл не получится"
   ]
  },
  {
   "cell_type": "markdown",
   "metadata": {
    "slideshow": {
     "slide_type": "slide"
    }
   },
   "source": [
    "### `Библиотека Numba`\n",
    "\n",
    "- Инструмент для компиляции части кода в LLVM, переводит часть кода на Python и NumPy в машинный код<br><br>\n",
    "- Далее эти фрагменты кода выполняются на CPU (или GPU) минуя интерпретатор<br><br>\n",
    "- Охватывает не весь язык, но может помочь в каких-то высоконагруженных секциях кода, скорость получается сопоставимой с реализацией на C/C++<br><br>\n",
    "- Numba использует JIT для ускорения отдельных функций в коде<br><br>\n",
    "- Библитека представлена набором декораторов и позволяет\n",
    "    - оставаться в рамках синтаксиса Python\n",
    "    - работать с его стандартным интерпретатором CPython<br><br>\n",
    "- Все, что нужно - поставить библиотеку и правильно расставить декораторы"
   ]
  },
  {
   "cell_type": "markdown",
   "metadata": {
    "slideshow": {
     "slide_type": "slide"
    }
   },
   "source": [
    "### `Поддерживаемые возможности Python и NumPy`\n",
    "\n",
    "- Ссылки на актуальные версии для [Python](https://numba.pydata.org/numba-doc/dev/reference/pysupported.html) и [NumPy](https://numba.pydata.org/numba-doc/dev/reference/numpysupported.html)\n",
    "\n",
    "Основные поддерживаемые или частично поддерживаемые Numba возможности Python:\n",
    "\n",
    "- условные операторы\n",
    "- операторы циклов\n",
    "- генераторы\n",
    "- исключения\n",
    "- менеджеры контекстов\n",
    "- функции (\\*\\*kwargs не поддерживается)\n",
    "- передача функций в качестве аргументов\n",
    "\n",
    "Большинство стандартных типов поддерживается, строки тоже, хотя часть их методов реализуется не очень эффективно"
   ]
  },
  {
   "cell_type": "markdown",
   "metadata": {
    "slideshow": {
     "slide_type": "slide"
    }
   },
   "source": [
    "### `Использование Numba`\n",
    "\n",
    "__Декораторы функций для их ускорения__:\n",
    "- `@jit` - Numba ускоряет все, что поддерживается до первой неподдерживаемой операции, после весь код будет выполняться интерпретатором (даже поддерживаемый)\n",
    "- `@njit`(или `@jit(nopython=True)`) - Numba будет сообщать об ошибке при работе с неподдерживаемым кодом (по возможности его стоит переписать)<br><br>\n",
    "- Из ускоренных функций допускается вызов только ускоренных функций\n",
    "- Ускоренные функции можно вызывать из любых функций"
   ]
  },
  {
   "cell_type": "code",
   "execution_count": 117,
   "metadata": {
    "slideshow": {
     "slide_type": "skip"
    }
   },
   "outputs": [],
   "source": [
    "def timed(method):\n",
    "    import time\n",
    "    def __timed(*args, **kw):\n",
    "        time_start = time.time()\n",
    "        result = method(*args, **kw)\n",
    "        time_end = time.time()\n",
    "        \n",
    "        print('{}  {:.3f} ms'.format(method.__name__, (time_end - time_start) * 1000))\n",
    "        return result\n",
    "\n",
    "    return __timed"
   ]
  },
  {
   "cell_type": "markdown",
   "metadata": {
    "slideshow": {
     "slide_type": "slide"
    }
   },
   "source": [
    "### `Пример использования Numba`"
   ]
  },
  {
   "cell_type": "code",
   "execution_count": 124,
   "metadata": {},
   "outputs": [],
   "source": [
    "import numba\n",
    "import numpy as np\n",
    "from numba import jit\n",
    "\n",
    "@timed\n",
    "def dot_product(x, y):\n",
    "    np.dot(x, y)\n",
    "\n",
    "@timed\n",
    "@jit(cache=True, nopython=True)\n",
    "def dot_product_numba(x, y):\n",
    "    np.dot(x, y)"
   ]
  },
  {
   "cell_type": "markdown",
   "metadata": {},
   "source": [
    "Запуск до и после кэширования кода:"
   ]
  },
  {
   "cell_type": "code",
   "execution_count": 119,
   "metadata": {},
   "outputs": [
    {
     "name": "stdout",
     "output_type": "stream",
     "text": [
      "dot_product  13.764 ms\n",
      "dot_product_numba  303.485 ms\n",
      "dot_product_numba  11.623 ms\n"
     ]
    }
   ],
   "source": [
    "N = 1000\n",
    "x, y = np.random.random((N, N)), np.random.random((N, N))\n",
    "\n",
    "dot_product(x, y)\n",
    "dot_product_numba(x, y)\n",
    "dot_product_numba(x, y)"
   ]
  },
  {
   "cell_type": "markdown",
   "metadata": {},
   "source": [
    "Оптимизация не всегда оказывается действенной, в каждом случае нужно проверять"
   ]
  },
  {
   "cell_type": "markdown",
   "metadata": {
    "slideshow": {
     "slide_type": "slide"
    }
   },
   "source": [
    "### `Параллелельные вычисления в Numba`\n",
    "\n",
    "- Параметр `parallel=True` декоратора приводит поиску в коде функции участки кода, которые можно выполнить параллельно, и запускает их на нескольких ядрах ([ссылка на документацию](https://numba.pydata.org/numba-doc/dev/user/parallel.html))\n",
    "- Проще всего рассматривать на примере цикла"
   ]
  },
  {
   "cell_type": "markdown",
   "metadata": {},
   "source": [
    "Обычный код с циклом:"
   ]
  },
  {
   "cell_type": "code",
   "execution_count": 120,
   "metadata": {},
   "outputs": [
    {
     "name": "stdout",
     "output_type": "stream",
     "text": [
      "two_d_array_reduction_prod  9326.630 ms\n",
      "two_d_array_reduction_prod  8955.357 ms\n"
     ]
    }
   ],
   "source": [
    "@timed\n",
    "def two_d_array_reduction_prod(n):\n",
    "    result = 2 * np.ones((13, 17), np.int_)\n",
    "    tmp = 2 * np.ones_like(result)\n",
    "\n",
    "    for i in range(n):\n",
    "        result *= tmp\n",
    "\n",
    "two_d_array_reduction_prod(10000000)\n",
    "two_d_array_reduction_prod(10000000)"
   ]
  },
  {
   "cell_type": "markdown",
   "metadata": {
    "slideshow": {
     "slide_type": "slide"
    }
   },
   "source": [
    "### `Параллелельные вычисления в Numba`\n",
    "\n",
    "Обычный код с numba и код с numba и параллелизацией цикла (`prange`):"
   ]
  },
  {
   "cell_type": "code",
   "execution_count": 121,
   "metadata": {},
   "outputs": [
    {
     "name": "stdout",
     "output_type": "stream",
     "text": [
      "two_d_array_reduction_prod_numba  990.910 ms\n",
      "two_d_array_reduction_prod_numba  726.427 ms\n"
     ]
    }
   ],
   "source": [
    "@timed\n",
    "@jit(cache=True, nopython=True)\n",
    "def two_d_array_reduction_prod_numba(n):\n",
    "    result = 2 * np.ones((13, 17), np.int_)\n",
    "    tmp = 2 * np.ones_like(result)\n",
    "\n",
    "    for i in range(n):\n",
    "        result *= tmp\n",
    "\n",
    "two_d_array_reduction_prod_numba(10000000)\n",
    "two_d_array_reduction_prod_numba(10000000)"
   ]
  },
  {
   "cell_type": "code",
   "execution_count": 125,
   "metadata": {},
   "outputs": [
    {
     "name": "stdout",
     "output_type": "stream",
     "text": [
      "two_d_array_reduction_prod_numba_parallel  2123.776 ms\n",
      "two_d_array_reduction_prod_numba_parallel  327.345 ms\n"
     ]
    }
   ],
   "source": [
    "@timed\n",
    "@jit(cache=True, nopython=True, parallel=True)\n",
    "def two_d_array_reduction_prod_numba_parallel(n):\n",
    "    result = 2 * np.ones((13, 17), np.int_)\n",
    "    tmp = 2 * np.ones_like(result)\n",
    "\n",
    "    for i in numba.prange(n):\n",
    "        result *= tmp\n",
    "\n",
    "two_d_array_reduction_prod_numba_parallel(10000000)\n",
    "two_d_array_reduction_prod_numba_parallel(10000000)"
   ]
  },
  {
   "cell_type": "markdown",
   "metadata": {
    "slideshow": {
     "slide_type": "slide"
    }
   },
   "source": [
    "### `Cython`\n",
    "\n",
    "- [Cython](https://cython.org/) - это расширение языка Python + статический компилятор<br><br>\n",
    "- Он сильно упрощает использование C-расширений в Python<br><br>\n",
    "- Библиотека позволяет:\n",
    "    - вызывать C/C++ код из любой точки кода на Python\n",
    "    - модифицировав синтаксис кода на Python транслировать его в код на C\n",
    "    - выполнять код параллельно<br><br>\n",
    "\n",
    "- Для использования в Jupyter-ноутбуке нужно выполнить `%load_ext cython`<br><br>\n",
    "- Для использования Cython в блоке кода достаточно добавить перед ним `%%cython`<br><br>"
   ]
  },
  {
   "cell_type": "code",
   "execution_count": 69,
   "metadata": {},
   "outputs": [],
   "source": [
    "%load_ext cython"
   ]
  },
  {
   "cell_type": "markdown",
   "metadata": {
    "slideshow": {
     "slide_type": "slide"
    }
   },
   "source": [
    "### `Примеры объявления переменных`"
   ]
  },
  {
   "cell_type": "code",
   "execution_count": 70,
   "metadata": {},
   "outputs": [
    {
     "name": "stdout",
     "output_type": "stream",
     "text": [
      "1 <class 'int'>\n",
      "0.5 <class 'float'>\n",
      "63.4 <class 'float'>\n",
      "b'str' <class 'bytes'>\n",
      "[1, 'fdfs', 'i', 0.4] <class 'list'>\n"
     ]
    }
   ],
   "source": [
    "%%cython\n",
    "cdef int a = 1\n",
    "cdef float x = 0.5\n",
    "cdef double y = 63.4\n",
    "cdef char* s = 'str'\n",
    "cdef list names = [1, 'fdfs', 'i', 0.4]\n",
    "\n",
    "print(a, type(a))\n",
    "print(x, type(x))\n",
    "print(y, type(y))\n",
    "print(s, type(s))\n",
    "print(names, type(names))"
   ]
  },
  {
   "cell_type": "markdown",
   "metadata": {
    "slideshow": {
     "slide_type": "slide"
    }
   },
   "source": [
    "### `Cython в Jupyter Notebook`\n",
    "\n",
    "- Вызов ячейки в первый раз приведет к компиляции, выполнению кода и загрузке результат\n",
    "- Второй вызов без изменения кода [ничего не даст](https://stackoverflow.com/questions/60802385/why-jupyter-notebook-only-prints-the-cython-result-once) - Cython не хочет повторять уже сделанную работу\n",
    "- Повторное выполнение можно потребовать флагом `--force`:"
   ]
  },
  {
   "cell_type": "code",
   "execution_count": 128,
   "metadata": {},
   "outputs": [
    {
     "name": "stdout",
     "output_type": "stream",
     "text": [
      "0\n"
     ]
    }
   ],
   "source": [
    "%%cython --force\n",
    "cdef int a = 0\n",
    "print(a)"
   ]
  },
  {
   "cell_type": "markdown",
   "metadata": {
    "slideshow": {
     "slide_type": "slide"
    }
   },
   "source": [
    "- Правильный способ - разделить компиляцию и вызов, вынеся код в функцию:"
   ]
  },
  {
   "cell_type": "code",
   "execution_count": 129,
   "metadata": {},
   "outputs": [],
   "source": [
    "%%cython\n",
    "def cfunc():\n",
    "    cdef int a = 0\n",
    "    print(a)"
   ]
  },
  {
   "cell_type": "code",
   "execution_count": 130,
   "metadata": {},
   "outputs": [
    {
     "name": "stdout",
     "output_type": "stream",
     "text": [
      "0\n"
     ]
    }
   ],
   "source": [
    "cfunc()"
   ]
  },
  {
   "cell_type": "markdown",
   "metadata": {
    "slideshow": {
     "slide_type": "slide"
    }
   },
   "source": [
    "### `Пример использования Cython`"
   ]
  },
  {
   "cell_type": "code",
   "execution_count": 209,
   "metadata": {},
   "outputs": [
    {
     "name": "stdout",
     "output_type": "stream",
     "text": [
      "1000000000\n",
      "func  36977.785 ms\n"
     ]
    }
   ],
   "source": [
    "@timed\n",
    "def func(n):\n",
    "    res = 0\n",
    "    for _ in range(n):\n",
    "        res += 1\n",
    "    print(res)\n",
    "\n",
    "func(1000000000)"
   ]
  },
  {
   "cell_type": "code",
   "execution_count": 210,
   "metadata": {},
   "outputs": [],
   "source": [
    "%%cython\n",
    "def func_cython(n):\n",
    "    cdef long res = 0\n",
    "    for _ in range(n):\n",
    "        res += 1\n",
    "    print(res)"
   ]
  },
  {
   "cell_type": "code",
   "execution_count": 211,
   "metadata": {},
   "outputs": [
    {
     "name": "stdout",
     "output_type": "stream",
     "text": [
      "1000000000\n",
      "wrapper  9902.226 ms\n"
     ]
    }
   ],
   "source": [
    "@timed\n",
    "def wrapper(n):\n",
    "    func_cython(n)\n",
    "\n",
    "wrapper(1000000000)"
   ]
  },
  {
   "cell_type": "markdown",
   "metadata": {
    "slideshow": {
     "slide_type": "slide"
    }
   },
   "source": [
    "### `Работа с функциями`\n",
    "\n",
    "- В коде на Cython можно объявлять функции с помощью оператора `def`, которые можно вызывать из Python\n",
    "- Также есть возможность объявления с помощью `cdef`, такие функции допустимо использовать только в коде CPython\n",
    "- Наконец, можно использовать `cpdef` - такие функции могут вызываться отовсюду, в т.ч. из кода на C"
   ]
  },
  {
   "cell_type": "code",
   "execution_count": 246,
   "metadata": {},
   "outputs": [],
   "source": [
    "%%cython\n",
    "\n",
    "cdef double cdef_func(double x, int y):\n",
    "    return x + y\n",
    "\n",
    "cpdef double cpdef_func(double x, int y):\n",
    "    return x + y\n",
    "\n",
    "def def_func(x, y):\n",
    "    return cdef_func(x, y)"
   ]
  },
  {
   "cell_type": "code",
   "execution_count": 247,
   "metadata": {},
   "outputs": [
    {
     "name": "stdout",
     "output_type": "stream",
     "text": [
      "13.0\n",
      "13.0\n"
     ]
    }
   ],
   "source": [
    "print(def_func(10, 3))\n",
    "print(cpdef_func(10, 3))"
   ]
  },
  {
   "cell_type": "markdown",
   "metadata": {
    "slideshow": {
     "slide_type": "slide"
    }
   },
   "source": [
    "### `Код из C в Cython`"
   ]
  },
  {
   "cell_type": "code",
   "execution_count": 262,
   "metadata": {},
   "outputs": [],
   "source": [
    "%%cython\n",
    "\n",
    "cdef extern from \"math.h\":\n",
    "    cpdef double sin(double x)"
   ]
  },
  {
   "cell_type": "code",
   "execution_count": 252,
   "metadata": {},
   "outputs": [
    {
     "data": {
      "text/plain": [
       "-0.5440211108893698"
      ]
     },
     "execution_count": 252,
     "metadata": {},
     "output_type": "execute_result"
    }
   ],
   "source": [
    "sin(10)"
   ]
  },
  {
   "cell_type": "code",
   "execution_count": 275,
   "metadata": {},
   "outputs": [],
   "source": [
    "%%cython\n",
    "from libc.stdlib cimport atoi\n",
    "\n",
    "cpdef parse_charptr_to_py_int(char* s):\n",
    "    return atoi(s)"
   ]
  },
  {
   "cell_type": "code",
   "execution_count": 276,
   "metadata": {},
   "outputs": [
    {
     "data": {
      "text/plain": [
       "10"
      ]
     },
     "execution_count": 276,
     "metadata": {},
     "output_type": "execute_result"
    }
   ],
   "source": [
    "parse_charptr_to_py_int(b'10')"
   ]
  },
  {
   "cell_type": "markdown",
   "metadata": {
    "slideshow": {
     "slide_type": "slide"
    }
   },
   "source": [
    "### `Фреймворки Hadoop и Spark`\n",
    "\n",
    "- Hadoop - это фреймворк для хранения, обработки и анализа больших массивов данных<br><br>\n",
    "- Может быть развернут и на ноутбуке, но по факту рассчитан на кластеры из большого числа машин<br><br>\n",
    "- В основе Hadoop лежит HDFS - распределенная файловая система с репликацией данных<br><br>\n",
    "- Допускается использование различных движков для обработки данных (MapReduce, Spark)<br><br>\n",
    "    - MapReduce как движок используется для работы с большими статическими данными на диске\n",
    "    - Spark работает с данными в оперативной памяти (MapReduce как парадигма вычислений тоже может использоваться)<br><br>\n",
    "- В экосистеме Hadoop есть SQL (Hive) и NoSQL (HBase) базы данных, системы обмена сообщениями (Kafka)<br><br>\n",
    "- Часто Spark и Hadoop используются вместе, но можно использовать и по-отдельности: Spark работает с другими системами управления (Mesos) и распределенными ФС (Cassandra, Amazon S3)<br><br>\n",
    "- С Hadoop и Spark можно работать из Python"
   ]
  },
  {
   "cell_type": "markdown",
   "metadata": {
    "slideshow": {
     "slide_type": "slide"
    }
   },
   "source": [
    "### `Парадигма MapReduce`\n",
    "\n",
    "- Программа в парадигме MapReduce состоит из наборов процедур Map и Reduce и применяется к массиву данных<br><br>\n",
    "- Шаг Map вычисляется для каждого элемента данных независимо от прочих и возвращается с определенным ключом<br><br>\n",
    "- Шаг Reduce применяется к выходным элементам с определенными ключами и агрегирует их в итоговый элемент или набор элементов\n",
    "\n",
    "Простой пример - поиск максимального элемента:\n",
    "\n",
    "```\n",
    "data = [1, 8, 7, 3, 2, 0]\n",
    "parts = [1, 8, 7], [3, 2, 0]\n",
    "map(parts) = (8, 'key'), (3, 'key')\n",
    "reduce(map(parts)) = 8\n",
    "```\n",
    "\n",
    "- Некоторая аналогия есть с функциями `map` и `functools.reduce`"
   ]
  },
  {
   "cell_type": "markdown",
   "metadata": {
    "slideshow": {
     "slide_type": "slide"
    }
   },
   "source": [
    "### `Пример задачи на MapReduce`\n",
    "\n",
    "- Обычно задача на MapReduce сводится к описанию функций, выполняющих эти шаги, с определенными сигнатурами\n",
    "- Функция Map должна принимать на вход значение или набор значений, а возвращать значение или набор значений с ключами\n",
    "- Функция Reduce должна принимать на вход набор значений с заданным ключом, агрегировать их и выдавать одно или несколько результирующих значений\n",
    "\n",
    "__Пример__ - функция, делающая join двух списков по ключу:"
   ]
  },
  {
   "cell_type": "code",
   "execution_count": 316,
   "metadata": {},
   "outputs": [],
   "source": [
    "a = [('1', 'A'), ('2', 'B'), ('3', 'C'), ('4', 'D')]\n",
    "b = [('I', '1'), ('II', '2'), ('III', '3'), ('IV', '4')]"
   ]
  },
  {
   "cell_type": "code",
   "execution_count": 317,
   "metadata": {},
   "outputs": [],
   "source": [
    "def mapper(x, key_index):\n",
    "    for e in x:\n",
    "        yield (e[key_index], e)"
   ]
  },
  {
   "cell_type": "code",
   "execution_count": 318,
   "metadata": {},
   "outputs": [
    {
     "name": "stdout",
     "output_type": "stream",
     "text": [
      "('1', ('1', 'A'))\t('2', ('2', 'B'))\t('3', ('3', 'C'))\t('4', ('4', 'D'))\t\n",
      "('1', ('I', '1'))\t('2', ('II', '2'))\t('3', ('III', '3'))\t('4', ('IV', '4'))\t"
     ]
    }
   ],
   "source": [
    "for e in mapper(a, key_index=0):\n",
    "    print(e, end='\\t')\n",
    "\n",
    "print()\n",
    "for e in mapper(b, key_index=1):\n",
    "    print(e, end='\\t')"
   ]
  },
  {
   "cell_type": "markdown",
   "metadata": {
    "slideshow": {
     "slide_type": "slide"
    }
   },
   "source": [
    "### `Пример задачи на MapReduce`\n",
    "\n",
    "__Пример__ - функция, делающая join двух списков по ключу:"
   ]
  },
  {
   "cell_type": "code",
   "execution_count": 324,
   "metadata": {},
   "outputs": [
    {
     "name": "stdout",
     "output_type": "stream",
     "text": [
      "[('1', ('1', 'A')), ('1', ('I', '1'))]\n"
     ]
    }
   ],
   "source": [
    "# Map step\n",
    "elements = list(sorted([e for e in mapper(a, 0)] + [e for e in mapper(b, 1)]))\n",
    "\n",
    "# Intermediate steps\n",
    "outputs = [elements[i: i + 2] for i in range(0, len(elements), 2)]\n",
    "print(outputs[0])"
   ]
  },
  {
   "cell_type": "code",
   "execution_count": 327,
   "metadata": {},
   "outputs": [
    {
     "data": {
      "text/plain": [
       "[('1', 'A', 'I', '1'),\n",
       " ('2', 'B', 'II', '2'),\n",
       " ('3', 'C', 'III', '3'),\n",
       " ('4', 'D', 'IV', '4')]"
      ]
     },
     "execution_count": 327,
     "metadata": {},
     "output_type": "execute_result"
    }
   ],
   "source": [
    "def reducer(x):\n",
    "    return tuple([k for e in x for k in e[1]])\n",
    "\n",
    "# Reduce step\n",
    "[reducer(e) for e in outputs]"
   ]
  },
  {
   "cell_type": "markdown",
   "metadata": {
    "slideshow": {
     "slide_type": "slide"
    }
   },
   "source": [
    "### `Какие еще есть шаги MapReduce`\n",
    "\n",
    "На самом деле, помимо основных шагов есть неявные, но тоже важные:\n",
    "- Sorting - сортировки выходов Map по ключам<br><br>\n",
    "- Partitioning - комбинирование выходов Map по наборам ключей для сокращения числа Reduce-ов (по одному не на ключ, а на надор ключей)<br><br>\n",
    "- Shuffling - направляет выходы Map к соответствующим Reduce-ам<br><br>\n",
    "- Combining - делает предварительный Reduce локальных выходов Map (на этом вычислительном узле)<br><br>\n",
    "- Merging - сливает все выходы Map, пришедшие к данному Reducer-у с сохранением порядка сортировки"
   ]
  },
  {
   "cell_type": "markdown",
   "metadata": {
    "slideshow": {
     "slide_type": "slide"
    }
   },
   "source": [
    "### `Профилирование кода на Python`\n",
    "\n",
    "- Профилирование - важный этап анализа производительности кода, который должен работать быстро\n",
    "- Существует два основных подхода к соданию программ-профилировщиков:\n",
    "    - __deterministic__\n",
    "        - запускается совместно с отлаживаемой программой и даёт точную информацию о числе вызовов и их относительной длительности\n",
    "        - существенно замедляет выполнение кода\n",
    "        - хорошо подходит для первичной отладки\n",
    "        - пример инструмента для Python - cProfile (стандартная библиотека)\n",
    "    - __sampling__\n",
    "        - запускается отдельно, периодически сэмплируя стек вызовов кода, и пытается эвристически определить число и длительность вызовов\n",
    "        - результат получается менее точным, зато на абсолютные значения таймингов можно полагаться\n",
    "        - подходит для профилировки работающих процессов\n",
    "        - пример инструмента для Python - py-spy (внешний модуль)"
   ]
  },
  {
   "cell_type": "markdown",
   "metadata": {
    "slideshow": {
     "slide_type": "slide"
    }
   },
   "source": [
    "### `Подготовка примеров`"
   ]
  },
  {
   "cell_type": "code",
   "execution_count": 10,
   "metadata": {},
   "outputs": [],
   "source": [
    "def add(x, k):\n",
    "    if k % 2 == 0:\n",
    "        return x + k\n",
    "    return x + 2 * k\n",
    "\n",
    "def some_func(n):\n",
    "    n, m = 10, n\n",
    "    return m\n",
    "\n",
    "def func(n):\n",
    "    i = 0\n",
    "    while i < n:\n",
    "        i = add(i, 1)\n",
    "        if i % 2 == 0:\n",
    "            i = add(i, 2)\n",
    "        n = some_func(n)"
   ]
  },
  {
   "cell_type": "code",
   "execution_count": 11,
   "metadata": {},
   "outputs": [],
   "source": [
    "import inspect\n",
    "with open('temp.py', 'w') as fout:\n",
    "    fout.write(''.join(inspect.findsource(func)[0]))\n",
    "    fout.write('func(100000000 * 10)')"
   ]
  },
  {
   "cell_type": "markdown",
   "metadata": {
    "slideshow": {
     "slide_type": "slide"
    }
   },
   "source": [
    "### `Пример использования cProfile`\n",
    "\n",
    "Основной вызов - `cProfile.run`, который принимает на всё, что можно подать в вызов `exec`:"
   ]
  },
  {
   "cell_type": "code",
   "execution_count": 12,
   "metadata": {},
   "outputs": [
    {
     "name": "stdout",
     "output_type": "stream",
     "text": [
      "         75000004 function calls in 16.528 seconds\n",
      "\n",
      "   Ordered by: standard name\n",
      "\n",
      "   ncalls  tottime  percall  cumtime  percall filename:lineno(function)\n",
      " 50000000    5.054    0.000    5.054    0.000 2864233318.py:1(add)\n",
      "        1    9.821    9.821   16.528   16.528 2864233318.py:10(func)\n",
      " 25000000    1.652    0.000    1.652    0.000 2864233318.py:6(some_func)\n",
      "        1    0.000    0.000   16.528   16.528 <string>:1(<module>)\n",
      "        1    0.000    0.000   16.528   16.528 {built-in method builtins.exec}\n",
      "        1    0.000    0.000    0.000    0.000 {method 'disable' of '_lsprof.Profiler' objects}\n",
      "\n",
      "\n",
      "16.528838634490967 sec.\n"
     ]
    }
   ],
   "source": [
    "import cProfile, time\n",
    "\n",
    "ts = time.time()\n",
    "cProfile.run('func(100000000)')\n",
    "print(f'{time.time() - ts} sec.')"
   ]
  },
  {
   "cell_type": "code",
   "execution_count": 13,
   "metadata": {},
   "outputs": [
    {
     "name": "stdout",
     "output_type": "stream",
     "text": [
      "8.48788857460022 sec.\n"
     ]
    }
   ],
   "source": [
    "ts = time.time()\n",
    "func(100000000)\n",
    "print(f'{time.time() - ts} sec.')"
   ]
  },
  {
   "cell_type": "markdown",
   "metadata": {
    "slideshow": {
     "slide_type": "slide"
    }
   },
   "source": [
    "### `Пример использования cProfile`\n",
    "\n",
    "Выход профилировщика можно отсортировать по ключам:"
   ]
  },
  {
   "cell_type": "code",
   "execution_count": 14,
   "metadata": {},
   "outputs": [
    {
     "name": "stdout",
     "output_type": "stream",
     "text": [
      "         75000004 function calls in 16.511 seconds\n",
      "\n",
      "   Ordered by: internal time\n",
      "\n",
      "   ncalls  tottime  percall  cumtime  percall filename:lineno(function)\n",
      "        1    9.810    9.810   16.511   16.511 2864233318.py:10(func)\n",
      " 50000000    5.016    0.000    5.016    0.000 2864233318.py:1(add)\n",
      " 25000000    1.685    0.000    1.685    0.000 2864233318.py:6(some_func)\n",
      "        1    0.000    0.000   16.511   16.511 {built-in method builtins.exec}\n",
      "        1    0.000    0.000   16.511   16.511 <string>:1(<module>)\n",
      "        1    0.000    0.000    0.000    0.000 {method 'disable' of '_lsprof.Profiler' objects}\n",
      "\n",
      "\n"
     ]
    }
   ],
   "source": [
    "from pstats import SortKey\n",
    "cProfile.run('func(100000000)', sort=SortKey.TIME)"
   ]
  },
  {
   "cell_type": "markdown",
   "metadata": {},
   "source": [
    "Начиная с версии 3.8 языка код можно профилировать прямо в менеджере контекста:"
   ]
  },
  {
   "cell_type": "code",
   "execution_count": 15,
   "metadata": {},
   "outputs": [
    {
     "name": "stdout",
     "output_type": "stream",
     "text": [
      "         75000003 function calls in 16.437 seconds\n",
      "\n",
      "   Ordered by: standard name\n",
      "\n",
      "   ncalls  tottime  percall  cumtime  percall filename:lineno(function)\n",
      " 50000000    5.035    0.000    5.035    0.000 2864233318.py:1(add)\n",
      "        1    9.829    9.829   16.437   16.437 2864233318.py:10(func)\n",
      " 25000000    1.573    0.000    1.573    0.000 2864233318.py:6(some_func)\n",
      "        1    0.000    0.000    0.000    0.000 cProfile.py:117(__exit__)\n",
      "        1    0.000    0.000    0.000    0.000 {method 'disable' of '_lsprof.Profiler' objects}\n",
      "\n",
      "\n"
     ]
    }
   ],
   "source": [
    "with cProfile.Profile() as pf:\n",
    "    func(100000000)\n",
    "pf.print_stats()"
   ]
  },
  {
   "cell_type": "markdown",
   "metadata": {
    "slideshow": {
     "slide_type": "slide"
    }
   },
   "source": [
    "### `Пример использования py-spy`\n",
    "\n",
    "Сперва запустим скрипт (можно запустить в терминале):"
   ]
  },
  {
   "cell_type": "code",
   "execution_count": 16,
   "metadata": {},
   "outputs": [
    {
     "data": {
      "text/plain": [
       "20147"
      ]
     },
     "execution_count": 16,
     "metadata": {},
     "output_type": "execute_result"
    }
   ],
   "source": [
    "import subprocess\n",
    "\n",
    "subprocess.Popen(['python', 'temp.py'], shell=False).pid"
   ]
  },
  {
   "cell_type": "markdown",
   "metadata": {},
   "source": [
    "Теперь запустим в терминале команду\n",
    "\n",
    "`sudo /home/mel-lain/.pyenv/shims/py-spy top --pid 20147`\n",
    "\n",
    "и получим интерактивный монитор (нагрузка в скрипте в файле в 10 раз выше):"
   ]
  },
  {
   "cell_type": "markdown",
   "metadata": {},
   "source": [
    "```\n",
    "%Own   %Total  OwnTime  TotalTime  Function (filename:line)\n",
    "\n",
    " 17.00%  17.00%   15.84s    15.84s   add (temp.py:2)\n",
    " 24.00%  37.00%   14.18s    27.24s   func (temp.py:15)\n",
    " 15.00%  32.00%   13.83s    29.73s   func (temp.py:13)\n",
    " 13.00%  20.00%   10.15s    15.30s   func (temp.py:16)\n",
    "  7.00%   7.00%    7.38s     7.38s   func (temp.py:14)\n",
    "  8.00%   8.00%    7.24s     7.24s   add (temp.py:4)\n",
    "  5.00%   5.00%    4.12s     4.12s   add (temp.py:3)\n",
    "  2.00%   2.00%    3.60s     3.60s   some_func (temp.py:7)\n",
    "  4.00%   4.00%    3.35s     3.35s   func (temp.py:12)\n",
    "  0.00%   0.00%    1.76s     1.76s   add (temp.py:1)\n",
    "  1.00%   1.00%   0.810s    0.810s   some_func (temp.py:8)\n",
    "  4.00%   4.00%   0.740s    0.740s   some_func (temp.py:6)\n",
    "  0.00% 100.00%   0.000s    83.00s   <module> (temp.py:17)\n",
    "```"
   ]
  },
  {
   "cell_type": "markdown",
   "metadata": {
    "slideshow": {
     "slide_type": "slide"
    }
   },
   "source": [
    "### `Пример использования py-spy`\n",
    "\n",
    "Результат можно записать и визуализировать:"
   ]
  },
  {
   "cell_type": "code",
   "execution_count": 17,
   "metadata": {},
   "outputs": [
    {
     "data": {
      "text/plain": [
       "20240"
      ]
     },
     "execution_count": 17,
     "metadata": {},
     "output_type": "execute_result"
    }
   ],
   "source": [
    "subprocess.Popen(['python', 'temp.py'], shell=False).pid"
   ]
  },
  {
   "cell_type": "markdown",
   "metadata": {},
   "source": [
    "Запустим в терминале команду\n",
    "\n",
    "`sudo /home/mel-lain/.pyenv/shims/py-spy record -p 19409 --output result.svg`\n",
    "\n",
    "и отобразим полученную картинку:"
   ]
  },
  {
   "cell_type": "code",
   "execution_count": 18,
   "metadata": {},
   "outputs": [
    {
     "data": {
      "image/svg+xml": [
       "<svg xmlns=\"http://www.w3.org/2000/svg\" xmlns:xlink=\"http://www.w3.org/1999/xlink\" xmlns:fg=\"http://github.com/jonhoo/inferno\" version=\"1.1\" width=\"1200\" height=\"138\" onload=\"init(evt)\" viewBox=\"0 0 1200 138\"><!--Flame graph stack visualization. See https://github.com/brendangregg/FlameGraph for latest version, and http://www.brendangregg.com/flamegraphs.html for examples.--><!--NOTES: --><defs><linearGradient id=\"background\" y1=\"0\" y2=\"1\" x1=\"0\" x2=\"0\"><stop stop-color=\"#eeeeee\" offset=\"5%\"/><stop stop-color=\"#eeeeb0\" offset=\"95%\"/></linearGradient></defs><style type=\"text/css\">\n",
       "text { font-family:&quot;Verdana&quot;; font-size:12px; fill:rgb(0,0,0); }\n",
       "#title { text-anchor:middle; font-size:17px; }\n",
       "#search { opacity:0.1; cursor:pointer; }\n",
       "#search:hover, #search.show { opacity:1; }\n",
       "#subtitle { text-anchor:middle; font-color:rgb(160,160,160); }\n",
       "#unzoom { cursor:pointer; }\n",
       "#frames &gt; *:hover { stroke:black; stroke-width:0.5; cursor:pointer; }\n",
       ".hide { display:none; }\n",
       ".parent { opacity:0.5; }\n",
       "</style><script type=\"text/ecmascript\"><![CDATA[\n",
       "        var nametype = 'Function:';\n",
       "        var fontsize = 12;\n",
       "        var fontwidth = 0.59;\n",
       "        var xpad = 10;\n",
       "        var inverted = true;\n",
       "        var searchcolor = 'rgb(230,0,230)';\n",
       "        var fluiddrawing = true;\n",
       "        var truncate_text_right = false;\n",
       "    ]]><![CDATA[\"use strict\";\n",
       "var details, searchbtn, unzoombtn, matchedtxt, svg, searching, frames;\n",
       "function init(evt) {\n",
       "    details = document.getElementById(\"details\").firstChild;\n",
       "    searchbtn = document.getElementById(\"search\");\n",
       "    unzoombtn = document.getElementById(\"unzoom\");\n",
       "    matchedtxt = document.getElementById(\"matched\");\n",
       "    svg = document.getElementsByTagName(\"svg\")[0];\n",
       "    frames = document.getElementById(\"frames\");\n",
       "    total_samples = parseInt(frames.attributes.total_samples.value);\n",
       "    searching = 0;\n",
       "\n",
       "    // Use GET parameters to restore a flamegraph's state.\n",
       "    var restore_state = function() {\n",
       "        var params = get_params();\n",
       "        if (params.x && params.y)\n",
       "            zoom(find_group(document.querySelector('[*|x=\"' + params.x + '\"][y=\"' + params.y + '\"]')));\n",
       "        if (params.s)\n",
       "            search(params.s);\n",
       "    };\n",
       "\n",
       "    if (fluiddrawing) {\n",
       "        // Make width dynamic so the SVG fits its parent's width.\n",
       "        svg.removeAttribute(\"width\");\n",
       "        // Edge requires us to have a viewBox that gets updated with size changes.\n",
       "        var isEdge = /Edge\\/\\d./i.test(navigator.userAgent);\n",
       "        if (!isEdge) {\n",
       "          svg.removeAttribute(\"viewBox\");\n",
       "        }\n",
       "        var update_for_width_change = function() {\n",
       "            if (isEdge) {\n",
       "                svg.attributes.viewBox.value = \"0 0 \" + svg.width.baseVal.value + \" \" + svg.height.baseVal.value;\n",
       "            }\n",
       "\n",
       "            // Keep consistent padding on left and right of frames container.\n",
       "            frames.attributes.width.value = svg.width.baseVal.value - xpad * 2;\n",
       "\n",
       "            // Text truncation needs to be adjusted for the current width.\n",
       "            var el = frames.children;\n",
       "            for(var i = 0; i < el.length; i++) {\n",
       "                update_text(el[i]);\n",
       "            }\n",
       "\n",
       "            // Keep search elements at a fixed distance from right edge.\n",
       "            var svgWidth = svg.width.baseVal.value;\n",
       "            searchbtn.attributes.x.value = svgWidth - xpad - 100;\n",
       "            matchedtxt.attributes.x.value = svgWidth - xpad - 100;\n",
       "        };\n",
       "        window.addEventListener('resize', function() {\n",
       "            update_for_width_change();\n",
       "        });\n",
       "        // This needs to be done asynchronously for Safari to work.\n",
       "        setTimeout(function() {\n",
       "            unzoom();\n",
       "            update_for_width_change();\n",
       "            restore_state();\n",
       "        }, 0);\n",
       "    } else {\n",
       "        restore_state();\n",
       "    }\n",
       "}\n",
       "// event listeners\n",
       "window.addEventListener(\"click\", function(e) {\n",
       "    var target = find_group(e.target);\n",
       "    if (target) {\n",
       "        if (target.nodeName == \"a\") {\n",
       "            if (e.ctrlKey === false) return;\n",
       "            e.preventDefault();\n",
       "        }\n",
       "        if (target.classList.contains(\"parent\")) unzoom();\n",
       "        zoom(target);\n",
       "\n",
       "        // set parameters for zoom state\n",
       "        var el = target.querySelector(\"rect\");\n",
       "        if (el && el.attributes && el.attributes.y && el.attributes[\"fg:x\"]) {\n",
       "            var params = get_params()\n",
       "            params.x = el.attributes[\"fg:x\"].value;\n",
       "            params.y = el.attributes.y.value;\n",
       "            history.replaceState(null, null, parse_params(params));\n",
       "        }\n",
       "    }\n",
       "    else if (e.target.id == \"unzoom\") {\n",
       "        unzoom();\n",
       "\n",
       "        // remove zoom state\n",
       "        var params = get_params();\n",
       "        if (params.x) delete params.x;\n",
       "        if (params.y) delete params.y;\n",
       "        history.replaceState(null, null, parse_params(params));\n",
       "    }\n",
       "    else if (e.target.id == \"search\") search_prompt();\n",
       "}, false)\n",
       "// mouse-over for info\n",
       "// show\n",
       "window.addEventListener(\"mouseover\", function(e) {\n",
       "    var target = find_group(e.target);\n",
       "    if (target) details.nodeValue = nametype + \" \" + g_to_text(target);\n",
       "}, false)\n",
       "// clear\n",
       "window.addEventListener(\"mouseout\", function(e) {\n",
       "    var target = find_group(e.target);\n",
       "    if (target) details.nodeValue = ' ';\n",
       "}, false)\n",
       "// ctrl-F for search\n",
       "window.addEventListener(\"keydown\",function (e) {\n",
       "    if (e.keyCode === 114 || (e.ctrlKey && e.keyCode === 70)) {\n",
       "        e.preventDefault();\n",
       "        search_prompt();\n",
       "    }\n",
       "}, false)\n",
       "// functions\n",
       "function get_params() {\n",
       "    var params = {};\n",
       "    var paramsarr = window.location.search.substr(1).split('&');\n",
       "    for (var i = 0; i < paramsarr.length; ++i) {\n",
       "        var tmp = paramsarr[i].split(\"=\");\n",
       "        if (!tmp[0] || !tmp[1]) continue;\n",
       "        params[tmp[0]]  = decodeURIComponent(tmp[1]);\n",
       "    }\n",
       "    return params;\n",
       "}\n",
       "function parse_params(params) {\n",
       "    var uri = \"?\";\n",
       "    for (var key in params) {\n",
       "        uri += key + '=' + encodeURIComponent(params[key]) + '&';\n",
       "    }\n",
       "    if (uri.slice(-1) == \"&\")\n",
       "        uri = uri.substring(0, uri.length - 1);\n",
       "    if (uri == '?')\n",
       "        uri = window.location.href.split('?')[0];\n",
       "    return uri;\n",
       "}\n",
       "function find_child(node, selector) {\n",
       "    var children = node.querySelectorAll(selector);\n",
       "    if (children.length) return children[0];\n",
       "    return;\n",
       "}\n",
       "function find_group(node) {\n",
       "    var parent = node.parentElement;\n",
       "    if (!parent) return;\n",
       "    if (parent.id == \"frames\") return node;\n",
       "    return find_group(parent);\n",
       "}\n",
       "function orig_save(e, attr, val) {\n",
       "    if (e.attributes[\"fg:orig_\" + attr] != undefined) return;\n",
       "    if (e.attributes[attr] == undefined) return;\n",
       "    if (val == undefined) val = e.attributes[attr].value;\n",
       "    e.setAttribute(\"fg:orig_\" + attr, val);\n",
       "}\n",
       "function orig_load(e, attr) {\n",
       "    if (e.attributes[\"fg:orig_\"+attr] == undefined) return;\n",
       "    e.attributes[attr].value = e.attributes[\"fg:orig_\" + attr].value;\n",
       "    e.removeAttribute(\"fg:orig_\" + attr);\n",
       "}\n",
       "function g_to_text(e) {\n",
       "    var text = find_child(e, \"title\").firstChild.nodeValue;\n",
       "    return (text)\n",
       "}\n",
       "function g_to_func(e) {\n",
       "    var func = g_to_text(e);\n",
       "    // if there's any manipulation we want to do to the function\n",
       "    // name before it's searched, do it here before returning.\n",
       "    return (func);\n",
       "}\n",
       "function update_text(e) {\n",
       "    var r = find_child(e, \"rect\");\n",
       "    var t = find_child(e, \"text\");\n",
       "    var w = parseFloat(r.attributes.width.value) * frames.attributes.width.value / 100 - 3;\n",
       "    var txt = find_child(e, \"title\").textContent.replace(/\\([^(]*\\)$/,\"\");\n",
       "    t.attributes.x.value = format_percent((parseFloat(r.attributes.x.value) + (100 * 3 / frames.attributes.width.value)));\n",
       "    // Smaller than this size won't fit anything\n",
       "    if (w < 2 * fontsize * fontwidth) {\n",
       "        t.textContent = \"\";\n",
       "        return;\n",
       "    }\n",
       "    t.textContent = txt;\n",
       "    // Fit in full text width\n",
       "    if (/^ *\\$/.test(txt) || t.getComputedTextLength() < w)\n",
       "        return;\n",
       "    if (truncate_text_right) {\n",
       "        // Truncate the right side of the text.\n",
       "        for (var x = txt.length - 2; x > 0; x--) {\n",
       "            if (t.getSubStringLength(0, x + 2) <= w) {\n",
       "                t.textContent = txt.substring(0, x) + \"..\";\n",
       "                return;\n",
       "            }\n",
       "        }\n",
       "    } else {\n",
       "        // Truncate the left side of the text.\n",
       "        for (var x = 2; x < txt.length; x++) {\n",
       "            if (t.getSubStringLength(x - 2, txt.length) <= w) {\n",
       "                t.textContent = \"..\" + txt.substring(x, txt.length);\n",
       "                return;\n",
       "            }\n",
       "        }\n",
       "    }\n",
       "    t.textContent = \"\";\n",
       "}\n",
       "// zoom\n",
       "function zoom_reset(e) {\n",
       "    if (e.tagName == \"rect\") {\n",
       "        e.attributes.x.value = format_percent(100 * parseInt(e.attributes[\"fg:x\"].value) / total_samples);\n",
       "        e.attributes.width.value = format_percent(100 * parseInt(e.attributes[\"fg:w\"].value) / total_samples);\n",
       "    }\n",
       "    if (e.childNodes == undefined) return;\n",
       "    for(var i = 0, c = e.childNodes; i < c.length; i++) {\n",
       "        zoom_reset(c[i]);\n",
       "    }\n",
       "}\n",
       "function zoom_child(e, x, zoomed_width_samples) {\n",
       "    if (e.tagName == \"text\") {\n",
       "        var parent_x = parseFloat(find_child(e.parentNode, \"rect[x]\").attributes.x.value);\n",
       "        e.attributes.x.value = format_percent(parent_x + (100 * 3 / frames.attributes.width.value));\n",
       "    } else if (e.tagName == \"rect\") {\n",
       "        e.attributes.x.value = format_percent(100 * (parseInt(e.attributes[\"fg:x\"].value) - x) / zoomed_width_samples);\n",
       "        e.attributes.width.value = format_percent(100 * parseInt(e.attributes[\"fg:w\"].value) / zoomed_width_samples);\n",
       "    }\n",
       "    if (e.childNodes == undefined) return;\n",
       "    for(var i = 0, c = e.childNodes; i < c.length; i++) {\n",
       "        zoom_child(c[i], x, zoomed_width_samples);\n",
       "    }\n",
       "}\n",
       "function zoom_parent(e) {\n",
       "    if (e.attributes) {\n",
       "        if (e.attributes.x != undefined) {\n",
       "            e.attributes.x.value = \"0.0%\";\n",
       "        }\n",
       "        if (e.attributes.width != undefined) {\n",
       "            e.attributes.width.value = \"100.0%\";\n",
       "        }\n",
       "    }\n",
       "    if (e.childNodes == undefined) return;\n",
       "    for(var i = 0, c = e.childNodes; i < c.length; i++) {\n",
       "        zoom_parent(c[i]);\n",
       "    }\n",
       "}\n",
       "function zoom(node) {\n",
       "    var attr = find_child(node, \"rect\").attributes;\n",
       "    var width = parseInt(attr[\"fg:w\"].value);\n",
       "    var xmin = parseInt(attr[\"fg:x\"].value);\n",
       "    var xmax = xmin + width;\n",
       "    var ymin = parseFloat(attr.y.value);\n",
       "    unzoombtn.classList.remove(\"hide\");\n",
       "    var el = frames.children;\n",
       "    for (var i = 0; i < el.length; i++) {\n",
       "        var e = el[i];\n",
       "        var a = find_child(e, \"rect\").attributes;\n",
       "        var ex = parseInt(a[\"fg:x\"].value);\n",
       "        var ew = parseInt(a[\"fg:w\"].value);\n",
       "        // Is it an ancestor\n",
       "        if (!inverted) {\n",
       "            var upstack = parseFloat(a.y.value) > ymin;\n",
       "        } else {\n",
       "            var upstack = parseFloat(a.y.value) < ymin;\n",
       "        }\n",
       "        if (upstack) {\n",
       "            // Direct ancestor\n",
       "            if (ex <= xmin && (ex+ew) >= xmax) {\n",
       "                e.classList.add(\"parent\");\n",
       "                zoom_parent(e);\n",
       "                update_text(e);\n",
       "            }\n",
       "            // not in current path\n",
       "            else\n",
       "                e.classList.add(\"hide\");\n",
       "        }\n",
       "        // Children maybe\n",
       "        else {\n",
       "            // no common path\n",
       "            if (ex < xmin || ex >= xmax) {\n",
       "                e.classList.add(\"hide\");\n",
       "            }\n",
       "            else {\n",
       "                zoom_child(e, xmin, width);\n",
       "                update_text(e);\n",
       "            }\n",
       "        }\n",
       "    }\n",
       "}\n",
       "function unzoom() {\n",
       "    unzoombtn.classList.add(\"hide\");\n",
       "    var el = frames.children;\n",
       "    for(var i = 0; i < el.length; i++) {\n",
       "        el[i].classList.remove(\"parent\");\n",
       "        el[i].classList.remove(\"hide\");\n",
       "        zoom_reset(el[i]);\n",
       "        update_text(el[i]);\n",
       "    }\n",
       "}\n",
       "// search\n",
       "function reset_search() {\n",
       "    var el = document.querySelectorAll(\"#frames rect\");\n",
       "    for (var i = 0; i < el.length; i++) {\n",
       "        orig_load(el[i], \"fill\")\n",
       "    }\n",
       "    var params = get_params();\n",
       "    delete params.s;\n",
       "    history.replaceState(null, null, parse_params(params));\n",
       "}\n",
       "function search_prompt() {\n",
       "    if (!searching) {\n",
       "        var term = prompt(\"Enter a search term (regexp \" +\n",
       "            \"allowed, eg: ^ext4_)\", \"\");\n",
       "        if (term != null) {\n",
       "            search(term)\n",
       "        }\n",
       "    } else {\n",
       "        reset_search();\n",
       "        searching = 0;\n",
       "        searchbtn.classList.remove(\"show\");\n",
       "        searchbtn.firstChild.nodeValue = \"Search\"\n",
       "        matchedtxt.classList.add(\"hide\");\n",
       "        matchedtxt.firstChild.nodeValue = \"\"\n",
       "    }\n",
       "}\n",
       "function search(term) {\n",
       "    var re = new RegExp(term);\n",
       "    var el = frames.children;\n",
       "    var matches = new Object();\n",
       "    var maxwidth = 0;\n",
       "    for (var i = 0; i < el.length; i++) {\n",
       "        var e = el[i];\n",
       "        // Skip over frames which are either not visible, or below the zoomed-to frame\n",
       "        if (e.classList.contains(\"hide\") || e.classList.contains(\"parent\")) {\n",
       "            continue;\n",
       "        }\n",
       "        var func = g_to_func(e);\n",
       "        var rect = find_child(e, \"rect\");\n",
       "        if (func == null || rect == null)\n",
       "            continue;\n",
       "        // Save max width. Only works as we have a root frame\n",
       "        var w = parseInt(rect.attributes[\"fg:w\"].value);\n",
       "        if (w > maxwidth)\n",
       "            maxwidth = w;\n",
       "        if (func.match(re)) {\n",
       "            // highlight\n",
       "            var x = parseInt(rect.attributes[\"fg:x\"].value);\n",
       "            orig_save(rect, \"fill\");\n",
       "            rect.attributes.fill.value = searchcolor;\n",
       "            // remember matches\n",
       "            if (matches[x] == undefined) {\n",
       "                matches[x] = w;\n",
       "            } else {\n",
       "                if (w > matches[x]) {\n",
       "                    // overwrite with parent\n",
       "                    matches[x] = w;\n",
       "                }\n",
       "            }\n",
       "            searching = 1;\n",
       "        }\n",
       "    }\n",
       "    if (!searching)\n",
       "        return;\n",
       "    var params = get_params();\n",
       "    params.s = term;\n",
       "    history.replaceState(null, null, parse_params(params));\n",
       "\n",
       "    searchbtn.classList.add(\"show\");\n",
       "    searchbtn.firstChild.nodeValue = \"Reset Search\";\n",
       "    // calculate percent matched, excluding vertical overlap\n",
       "    var count = 0;\n",
       "    var lastx = -1;\n",
       "    var lastw = 0;\n",
       "    var keys = Array();\n",
       "    for (k in matches) {\n",
       "        if (matches.hasOwnProperty(k))\n",
       "            keys.push(k);\n",
       "    }\n",
       "    // sort the matched frames by their x location\n",
       "    // ascending, then width descending\n",
       "    keys.sort(function(a, b){\n",
       "        return a - b;\n",
       "    });\n",
       "    // Step through frames saving only the biggest bottom-up frames\n",
       "    // thanks to the sort order. This relies on the tree property\n",
       "    // where children are always smaller than their parents.\n",
       "    for (var k in keys) {\n",
       "        var x = parseInt(keys[k]);\n",
       "        var w = matches[keys[k]];\n",
       "        if (x >= lastx + lastw) {\n",
       "            count += w;\n",
       "            lastx = x;\n",
       "            lastw = w;\n",
       "        }\n",
       "    }\n",
       "    // display matched percent\n",
       "    matchedtxt.classList.remove(\"hide\");\n",
       "    var pct = 100 * count / maxwidth;\n",
       "    if (pct != 100) pct = pct.toFixed(1);\n",
       "    matchedtxt.firstChild.nodeValue = \"Matched: \" + pct + \"%\";\n",
       "}\n",
       "function format_percent(n) {\n",
       "    return n.toFixed(4) + \"%\";\n",
       "}\n",
       "]]></script><rect x=\"0\" y=\"0\" width=\"100%\" height=\"138\" fill=\"url(#background)\"/><text id=\"title\" x=\"50.0000%\" y=\"24.00\">/home/mel-lain/.pyenv/versions/3.9.9/bin/py-spy record -p 20240 --output result.svg</text><text id=\"details\" x=\"10\" y=\"40.00\"> </text><text id=\"unzoom\" class=\"hide\" x=\"10\" y=\"24.00\">Reset Zoom</text><text id=\"search\" x=\"1090\" y=\"24.00\">Search</text><text id=\"matched\" x=\"1090\" y=\"127.00\"> </text><svg id=\"frames\" x=\"10\" width=\"1180\" total_samples=\"8383\"><g><title>func (temp.py:12) (315 samples, 3.76%)</title><rect x=\"0.0000%\" y=\"84\" width=\"3.7576%\" height=\"15\" fill=\"rgb(227,0,7)\" fg:x=\"0\" fg:w=\"315\"/><text x=\"0.2500%\" y=\"94.50\">func..</text></g><g><title>add (temp.py:1) (92 samples, 1.10%)</title><rect x=\"20.8159%\" y=\"100\" width=\"1.0975%\" height=\"15\" fill=\"rgb(217,0,24)\" fg:x=\"1745\" fg:w=\"92\"/><text x=\"21.0659%\" y=\"110.50\"/></g><g><title>add (temp.py:2) (914 samples, 10.90%)</title><rect x=\"21.9134%\" y=\"100\" width=\"10.9030%\" height=\"15\" fill=\"rgb(221,193,54)\" fg:x=\"1837\" fg:w=\"914\"/><text x=\"22.1634%\" y=\"110.50\">add (temp.py:2)</text></g><g><title>func (temp.py:13) (3,163 samples, 37.73%)</title><rect x=\"3.7576%\" y=\"84\" width=\"37.7311%\" height=\"15\" fill=\"rgb(248,212,6)\" fg:x=\"315\" fg:w=\"3163\"/><text x=\"4.0076%\" y=\"94.50\">func (temp.py:13)</text></g><g><title>add (temp.py:4) (727 samples, 8.67%)</title><rect x=\"32.8164%\" y=\"100\" width=\"8.6723%\" height=\"15\" fill=\"rgb(208,68,35)\" fg:x=\"2751\" fg:w=\"727\"/><text x=\"33.0664%\" y=\"110.50\">add (temp.py..</text></g><g><title>func (temp.py:14) (646 samples, 7.71%)</title><rect x=\"41.4887%\" y=\"84\" width=\"7.7061%\" height=\"15\" fill=\"rgb(232,128,0)\" fg:x=\"3478\" fg:w=\"646\"/><text x=\"41.7387%\" y=\"94.50\">func (temp...</text></g><g><title>add (temp.py:1) (93 samples, 1.11%)</title><rect x=\"65.5135%\" y=\"100\" width=\"1.1094%\" height=\"15\" fill=\"rgb(207,160,47)\" fg:x=\"5492\" fg:w=\"93\"/><text x=\"65.7635%\" y=\"110.50\"/></g><g><title>add (temp.py:2) (816 samples, 9.73%)</title><rect x=\"66.6229%\" y=\"100\" width=\"9.7340%\" height=\"15\" fill=\"rgb(228,23,34)\" fg:x=\"5585\" fg:w=\"816\"/><text x=\"66.8729%\" y=\"110.50\">add (temp.py:2)</text></g><g><title>func (temp.py:15) (2,659 samples, 31.72%)</title><rect x=\"49.1948%\" y=\"84\" width=\"31.7190%\" height=\"15\" fill=\"rgb(218,30,26)\" fg:x=\"4124\" fg:w=\"2659\"/><text x=\"49.4448%\" y=\"94.50\">func (temp.py:15)</text></g><g><title>add (temp.py:3) (382 samples, 4.56%)</title><rect x=\"76.3569%\" y=\"100\" width=\"4.5568%\" height=\"15\" fill=\"rgb(220,122,19)\" fg:x=\"6401\" fg:w=\"382\"/><text x=\"76.6069%\" y=\"110.50\">add (..</text></g><g><title>some_func (temp.py:6) (92 samples, 1.10%)</title><rect x=\"94.4531%\" y=\"100\" width=\"1.0975%\" height=\"15\" fill=\"rgb(250,228,42)\" fg:x=\"7918\" fg:w=\"92\"/><text x=\"94.7031%\" y=\"110.50\"/></g><g><title>some_func (temp.py:7) (285 samples, 3.40%)</title><rect x=\"95.5505%\" y=\"100\" width=\"3.3997%\" height=\"15\" fill=\"rgb(240,193,28)\" fg:x=\"8010\" fg:w=\"285\"/><text x=\"95.8005%\" y=\"110.50\">som..</text></g><g><title>all (8,383 samples, 100%)</title><rect x=\"0.0000%\" y=\"52\" width=\"100.0000%\" height=\"15\" fill=\"rgb(216,20,37)\" fg:x=\"0\" fg:w=\"8383\"/><text x=\"0.2500%\" y=\"62.50\"/></g><g><title>&lt;module&gt; (temp.py:17) (8,383 samples, 100.00%)</title><rect x=\"0.0000%\" y=\"68\" width=\"100.0000%\" height=\"15\" fill=\"rgb(206,188,39)\" fg:x=\"0\" fg:w=\"8383\"/><text x=\"0.2500%\" y=\"78.50\">&lt;module&gt; (temp.py:17)</text></g><g><title>func (temp.py:16) (1,600 samples, 19.09%)</title><rect x=\"80.9138%\" y=\"84\" width=\"19.0862%\" height=\"15\" fill=\"rgb(217,207,13)\" fg:x=\"6783\" fg:w=\"1600\"/><text x=\"81.1638%\" y=\"94.50\">func (temp.py:16)</text></g><g><title>some_func (temp.py:8) (88 samples, 1.05%)</title><rect x=\"98.9503%\" y=\"100\" width=\"1.0497%\" height=\"15\" fill=\"rgb(231,73,38)\" fg:x=\"8295\" fg:w=\"88\"/><text x=\"99.2003%\" y=\"110.50\"/></g></svg></svg>"
      ],
      "text/plain": [
       "<IPython.core.display.SVG object>"
      ]
     },
     "metadata": {},
     "output_type": "display_data"
    }
   ],
   "source": [
    "from IPython.display import SVG, display\n",
    "display(SVG(filename='result.svg'))"
   ]
  },
  {
   "cell_type": "markdown",
   "metadata": {
    "slideshow": {
     "slide_type": "slide"
    }
   },
   "source": [
    "## `Спасибо за внимание!`"
   ]
  }
 ],
 "metadata": {
  "celltoolbar": "Slideshow",
  "kernelspec": {
   "display_name": "Python 3",
   "language": "python",
   "name": "python3"
  },
  "language_info": {
   "codemirror_mode": {
    "name": "ipython",
    "version": 3
   },
   "file_extension": ".py",
   "mimetype": "text/x-python",
   "name": "python",
   "nbconvert_exporter": "python",
   "pygments_lexer": "ipython3",
   "version": "3.7.3"
  }
 },
 "nbformat": 4,
 "nbformat_minor": 2
}
